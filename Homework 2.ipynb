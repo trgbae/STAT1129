{
 "cells": [
  {
   "cell_type": "code",
   "execution_count": 1,
   "id": "03402244",
   "metadata": {},
   "outputs": [
    {
     "name": "stdout",
     "output_type": "stream",
     "text": [
      "0\n",
      "1\n",
      "2\n",
      "3\n",
      "4\n"
     ]
    }
   ],
   "source": [
    "n = 0\n",
    "while n < 10:\n",
    "    print(n)\n",
    "    if n == 4:\n",
    "        break\n",
    "    n = n + 1"
   ]
  },
  {
   "cell_type": "code",
   "execution_count": 2,
   "id": "542e3927",
   "metadata": {},
   "outputs": [
    {
     "name": "stdout",
     "output_type": "stream",
     "text": [
      "0\n",
      "1\n",
      "2\n",
      "3\n",
      "4\n",
      "5 is not less than 5\n"
     ]
    }
   ],
   "source": [
    "n = 0\n",
    "while n < 5:\n",
    "    print(n)\n",
    "    n += 1\n",
    "else:\n",
    "    print(n, \"is not less than 5\")"
   ]
  },
  {
   "cell_type": "code",
   "execution_count": 3,
   "id": "ed1719eb",
   "metadata": {},
   "outputs": [
    {
     "name": "stdout",
     "output_type": "stream",
     "text": [
      "I like papaya\n",
      "I like watermelon\n",
      "I like cherries\n",
      "I like mangoes\n",
      "apple doesn't taste good\n"
     ]
    }
   ],
   "source": [
    "apple = 'apple'\n",
    "fruits = ['papaya', 'watermelon', 'cherries', 'mangoes', 'apple']\n",
    "for fruit in fruits:\n",
    "    if fruit == apple:\n",
    "        print(fruit, \"doesn't taste good\")\n",
    "    else:\n",
    "        print(\"I like\", fruit)"
   ]
  },
  {
   "cell_type": "code",
   "execution_count": 4,
   "id": "2c8082c6",
   "metadata": {},
   "outputs": [
    {
     "name": "stdout",
     "output_type": "stream",
     "text": [
      "The sum is 465\n"
     ]
    }
   ],
   "source": [
    "n = 30\n",
    "total = 0\n",
    "i = 1\n",
    "while i <= n:\n",
    "    total = total + i \n",
    "    i = i + 1\n",
    "\n",
    "print(\"The sum is\", total)"
   ]
  },
  {
   "cell_type": "code",
   "execution_count": 5,
   "id": "d1331bef",
   "metadata": {},
   "outputs": [
    {
     "name": "stdout",
     "output_type": "stream",
     "text": [
      "C\n"
     ]
    }
   ],
   "source": [
    "grade = 78\n",
    "\n",
    "if grade >= 90:\n",
    "    print(\"A\")\n",
    "elif grade >= 80:\n",
    "    print(\"B\")\n",
    "elif grade >= 70:\n",
    "    print(\"C\")\n",
    "elif grade >= 60:\n",
    "    print(\"D\")\n",
    "else:\n",
    "    print(\"F\")"
   ]
  },
  {
   "cell_type": "code",
   "execution_count": 6,
   "id": "a3611bc7",
   "metadata": {},
   "outputs": [],
   "source": [
    "marks = {'Andy': 88, 'Amy': 66, 'James': 90, 'Jules': 55, 'Arthur': 77}"
   ]
  },
  {
   "cell_type": "code",
   "execution_count": 7,
   "id": "6380466f",
   "metadata": {},
   "outputs": [
    {
     "name": "stdout",
     "output_type": "stream",
     "text": [
      "Andy 88\n",
      "Amy 66\n",
      "James 90\n",
      "Jules 55\n",
      "Arthur 77\n"
     ]
    }
   ],
   "source": [
    "for name, grade in marks.items():\n",
    "    print(name, grade)"
   ]
  },
  {
   "cell_type": "code",
   "execution_count": 8,
   "id": "bb7696c3",
   "metadata": {},
   "outputs": [
    {
     "name": "stdout",
     "output_type": "stream",
     "text": [
      "Mean = 75.2\n",
      "Max =  90\n",
      "Min = 55\n"
     ]
    }
   ],
   "source": [
    "grades = list(marks.values())\n",
    "mean = sum(grades)/len(grades)\n",
    "\n",
    "print(\"Mean =\", mean)\n",
    "print(\"Max = \", max(grades))\n",
    "print(\"Min =\", min(grades))"
   ]
  },
  {
   "cell_type": "code",
   "execution_count": 11,
   "id": "7b8b00a8",
   "metadata": {},
   "outputs": [
    {
     "name": "stdout",
     "output_type": "stream",
     "text": [
      "Andy\n",
      "Amy\n"
     ]
    }
   ],
   "source": [
    "for name in marks.keys():\n",
    "    if 'J' in name:\n",
    "        break\n",
    "    print(name)"
   ]
  },
  {
   "cell_type": "code",
   "execution_count": 12,
   "id": "2034c496",
   "metadata": {},
   "outputs": [
    {
     "name": "stdout",
     "output_type": "stream",
     "text": [
      "Andy\n",
      "Amy\n",
      "Arthur\n"
     ]
    }
   ],
   "source": [
    "for name in marks.keys():\n",
    "    if 'J' in name:\n",
    "        continue\n",
    "    print(name)"
   ]
  }
 ],
 "metadata": {
  "kernelspec": {
   "display_name": "Python 3 (ipykernel)",
   "language": "python",
   "name": "python3"
  },
  "language_info": {
   "codemirror_mode": {
    "name": "ipython",
    "version": 3
   },
   "file_extension": ".py",
   "mimetype": "text/x-python",
   "name": "python",
   "nbconvert_exporter": "python",
   "pygments_lexer": "ipython3",
   "version": "3.9.13"
  }
 },
 "nbformat": 4,
 "nbformat_minor": 5
}
