{
 "cells": [
  {
   "cell_type": "code",
   "execution_count": 1,
   "id": "04a997d4",
   "metadata": {},
   "outputs": [],
   "source": [
    "marks = {'Andy': 88, 'Amy': 66, 'James': 90, 'Jules': 55, 'Arthur': 77}"
   ]
  },
  {
   "cell_type": "code",
   "execution_count": 3,
   "id": "0eba19d5",
   "metadata": {},
   "outputs": [
    {
     "name": "stdout",
     "output_type": "stream",
     "text": [
      "55\n",
      "No entry with that name found.\n"
     ]
    }
   ],
   "source": [
    "def print_student(student_name):\n",
    "    for student in marks:\n",
    "        if student == student_name:\n",
    "            print(marks[student])\n",
    "            break\n",
    "    else:\n",
    "        print(\"No entry with that name found.\")\n",
    "        \n",
    "print_student(\"Jules\")\n",
    "print_student(\"Andrew\")"
   ]
  },
  {
   "cell_type": "code",
   "execution_count": 7,
   "id": "be0166dd",
   "metadata": {},
   "outputs": [
    {
     "data": {
      "text/plain": [
       "75.2"
      ]
     },
     "execution_count": 7,
     "metadata": {},
     "output_type": "execute_result"
    }
   ],
   "source": [
    "def print_average(grades):\n",
    "    for grades in marks:\n",
    "        grades = list(marks.values())\n",
    "        mean = sum(grades)/len(grades)\n",
    "        return mean\n",
    "\n",
    "print_average(grades)"
   ]
  },
  {
   "cell_type": "code",
   "execution_count": 1,
   "id": "b8b1561f",
   "metadata": {},
   "outputs": [
    {
     "name": "stdout",
     "output_type": "stream",
     "text": [
      "6 36\n"
     ]
    }
   ],
   "source": [
    "def less_than(num):\n",
    "    n = 6\n",
    "    while n in range(num):\n",
    "        if n < 8:\n",
    "            square = n*n\n",
    "            print(n, square)\n",
    "            break\n",
    "    else:\n",
    "        print(\"greater than 8\")\n",
    "        \n",
    "less_than(8)"
   ]
  },
  {
   "cell_type": "code",
   "execution_count": 6,
   "id": "a7f7bfee",
   "metadata": {},
   "outputs": [
    {
     "name": "stdout",
     "output_type": "stream",
     "text": [
      "36\n"
     ]
    }
   ],
   "source": [
    "def print_total(num):\n",
    "    n = 1\n",
    "    total = 0\n",
    "    while n <= 8:\n",
    "        total = total + n \n",
    "        n = n +1 \n",
    "    print(total)\n",
    "\n",
    "print_total(8)"
   ]
  },
  {
   "cell_type": "code",
   "execution_count": 9,
   "id": "9f15110b",
   "metadata": {},
   "outputs": [
    {
     "name": "stdout",
     "output_type": "stream",
     "text": [
      "0\n",
      "1\n",
      "3\n",
      "6\n",
      "10\n",
      "15\n",
      "21\n",
      "28\n",
      "36\n"
     ]
    }
   ],
   "source": [
    "def each_total(num):\n",
    "    total = 0\n",
    "    for n in range(num):\n",
    "        total = total + n\n",
    "        print(total)\n",
    "        \n",
    "each_total(9)"
   ]
  },
  {
   "cell_type": "code",
   "execution_count": 27,
   "id": "f0de0207",
   "metadata": {},
   "outputs": [
    {
     "name": "stdout",
     "output_type": "stream",
     "text": [
      "50.0\n",
      "4950\n",
      "28.722813232690143\n"
     ]
    }
   ],
   "source": [
    "import statistics as stats\n",
    "\n",
    "def properties(num):\n",
    "    num = list(range(1,100))\n",
    "    for n in num:\n",
    "        mean = sum(num)/len(num)\n",
    "        print(mean)\n",
    "        total = sum(num)\n",
    "        print(total)\n",
    "        stdev = stats.stdev(num)\n",
    "        print(stdev)\n",
    "        break\n",
    "\n",
    "properties(num)\n",
    "        "
   ]
  },
  {
   "cell_type": "code",
   "execution_count": 28,
   "id": "710118af",
   "metadata": {},
   "outputs": [
    {
     "name": "stdout",
     "output_type": "stream",
     "text": [
      "50\n"
     ]
    }
   ],
   "source": [
    "def minimal(v1, v2, v3, v4):\n",
    "    if v1 > v2:\n",
    "        print(v1)\n",
    "    elif v2 > v3:\n",
    "        print(v2)\n",
    "    elif v3 > v4:\n",
    "        print(v3)\n",
    "    else:\n",
    "        print(v4)\n",
    "\n",
    "minimal(10, 22, 44, 50)"
   ]
  },
  {
   "cell_type": "code",
   "execution_count": 31,
   "id": "bc36e666",
   "metadata": {},
   "outputs": [
    {
     "name": "stdout",
     "output_type": "stream",
     "text": [
      "[1]\n",
      "[1, 2]\n",
      "[1, 2, 3]\n",
      "[1, 2, 3, 4]\n",
      "[1, 2, 3, 4, 5]\n"
     ]
    }
   ],
   "source": [
    "a_list = []\n",
    "\n",
    "def concatenating(a_list):\n",
    "    for number in range(1,6):\n",
    "        a_list = a_list + [number]\n",
    "        print(a_list)\n",
    "        \n",
    "concatenating(a_list)"
   ]
  }
 ],
 "metadata": {
  "kernelspec": {
   "display_name": "Python 3 (ipykernel)",
   "language": "python",
   "name": "python3"
  },
  "language_info": {
   "codemirror_mode": {
    "name": "ipython",
    "version": 3
   },
   "file_extension": ".py",
   "mimetype": "text/x-python",
   "name": "python",
   "nbconvert_exporter": "python",
   "pygments_lexer": "ipython3",
   "version": "3.9.13"
  }
 },
 "nbformat": 4,
 "nbformat_minor": 5
}
