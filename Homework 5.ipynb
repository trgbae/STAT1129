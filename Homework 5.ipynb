{
 "cells": [
  {
   "cell_type": "markdown",
   "id": "b79710a4",
   "metadata": {},
   "source": [
    "### Question 1"
   ]
  },
  {
   "cell_type": "code",
   "execution_count": 1,
   "id": "e14b1b21",
   "metadata": {},
   "outputs": [],
   "source": [
    "class Human:\n",
    "    organ_system = True\n",
    "    organs = True\n",
    "    tissue = True\n",
    "    cells = True\n",
    "    DNA = True \n",
    "    \n",
    "    def __init__(self, height, weight, hair_color, eye_color):\n",
    "        self.height = height\n",
    "        self.weight = weight\n",
    "        self.hair_color = hair_color\n",
    "        self.eye_color = eye_color"
   ]
  },
  {
   "cell_type": "code",
   "execution_count": 2,
   "id": "b07820a0",
   "metadata": {},
   "outputs": [],
   "source": [
    "A = Human(height = \"6'1\", weight = \"180 lbs\", hair_color = \"brown\", eye_color = \"hazel\")\n",
    "B = Human(height = \"5'4\", weight = \"130 lbs\", hair_color = \"amber\", eye_color = \"golden\")"
   ]
  },
  {
   "cell_type": "code",
   "execution_count": 3,
   "id": "831c00d0",
   "metadata": {},
   "outputs": [
    {
     "data": {
      "text/plain": [
       "'hazel'"
      ]
     },
     "execution_count": 3,
     "metadata": {},
     "output_type": "execute_result"
    }
   ],
   "source": [
    "A.eye_color"
   ]
  },
  {
   "cell_type": "markdown",
   "id": "6e7e224c",
   "metadata": {},
   "source": [
    "### Question 2"
   ]
  },
  {
   "cell_type": "code",
   "execution_count": 6,
   "id": "1049c940",
   "metadata": {},
   "outputs": [
    {
     "name": "stdout",
     "output_type": "stream",
     "text": [
      "0.0\n"
     ]
    }
   ],
   "source": [
    "import math\n",
    "\n",
    "class Point:\n",
    "    def __init__(self, x, y):\n",
    "        self.x = 0\n",
    "        self.y = 0\n",
    "    def distance_to(self, other):\n",
    "        dx = self.x - other.x\n",
    "        dy = self.y - other.y\n",
    "        d = math.sqrt(dx**2+dy**2)\n",
    "        return d\n",
    "    \n",
    "P = Point(0,0)\n",
    "Q = Point(0,0)\n",
    "d = P.distance_to(Q)\n",
    "print(d)"
   ]
  },
  {
   "cell_type": "markdown",
   "id": "d963e883",
   "metadata": {},
   "source": [
    "### Question 3\n",
    "B"
   ]
  },
  {
   "cell_type": "markdown",
   "id": "fb914020",
   "metadata": {},
   "source": [
    "### Question 4\n",
    "The output would be: hello world."
   ]
  },
  {
   "cell_type": "markdown",
   "id": "138e4078",
   "metadata": {},
   "source": [
    "### Question 5\n",
    "C"
   ]
  },
  {
   "cell_type": "markdown",
   "id": "5d0590b4",
   "metadata": {},
   "source": [
    "### Question 6\n",
    "The output would be\n",
    "\n",
    "TypeError: Only integers are allowed"
   ]
  }
 ],
 "metadata": {
  "kernelspec": {
   "display_name": "Python 3 (ipykernel)",
   "language": "python",
   "name": "python3"
  },
  "language_info": {
   "codemirror_mode": {
    "name": "ipython",
    "version": 3
   },
   "file_extension": ".py",
   "mimetype": "text/x-python",
   "name": "python",
   "nbconvert_exporter": "python",
   "pygments_lexer": "ipython3",
   "version": "3.9.13"
  }
 },
 "nbformat": 4,
 "nbformat_minor": 5
}
