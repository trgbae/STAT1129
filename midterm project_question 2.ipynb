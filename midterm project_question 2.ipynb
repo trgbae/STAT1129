{
 "cells": [
  {
   "cell_type": "code",
   "execution_count": 1,
   "id": "34aa4cd1",
   "metadata": {},
   "outputs": [
    {
     "data": {
      "text/html": [
       "<div>\n",
       "<style scoped>\n",
       "    .dataframe tbody tr th:only-of-type {\n",
       "        vertical-align: middle;\n",
       "    }\n",
       "\n",
       "    .dataframe tbody tr th {\n",
       "        vertical-align: top;\n",
       "    }\n",
       "\n",
       "    .dataframe thead th {\n",
       "        text-align: right;\n",
       "    }\n",
       "</style>\n",
       "<table border=\"1\" class=\"dataframe\">\n",
       "  <thead>\n",
       "    <tr style=\"text-align: right;\">\n",
       "      <th></th>\n",
       "      <th>Order Date</th>\n",
       "      <th>Order ID</th>\n",
       "      <th>Payment Instrument Type</th>\n",
       "      <th>Website</th>\n",
       "      <th>Purchase Order Number</th>\n",
       "      <th>Ordering Customer Email</th>\n",
       "      <th>Shipment Date</th>\n",
       "      <th>Shipping Address Name</th>\n",
       "      <th>Shipping Address Street 1</th>\n",
       "      <th>Shipping Address Street 2</th>\n",
       "      <th>...</th>\n",
       "      <th>Order Status</th>\n",
       "      <th>Carrier Name &amp; Tracking Number</th>\n",
       "      <th>Subtotal</th>\n",
       "      <th>Shipping Charge</th>\n",
       "      <th>Tax Before Promotions</th>\n",
       "      <th>Total Promotions</th>\n",
       "      <th>Tax Charged</th>\n",
       "      <th>Total Charged</th>\n",
       "      <th>Buyer Name</th>\n",
       "      <th>Group Name</th>\n",
       "    </tr>\n",
       "  </thead>\n",
       "  <tbody>\n",
       "    <tr>\n",
       "      <th>0</th>\n",
       "      <td>1/10/23</td>\n",
       "      <td>114-0637911-5956210</td>\n",
       "      <td>Mastercard - 5791</td>\n",
       "      <td>Amazon.com</td>\n",
       "      <td>NaN</td>\n",
       "      <td>taerang.bae@gwu.edu</td>\n",
       "      <td>1/17/23</td>\n",
       "      <td>Taerang Bae</td>\n",
       "      <td>2223 H St. NW</td>\n",
       "      <td>FULBRIGHT HALL #204</td>\n",
       "      <td>...</td>\n",
       "      <td>Shipped</td>\n",
       "      <td>USPS</td>\n",
       "      <td>$2.29</td>\n",
       "      <td>$0.00</td>\n",
       "      <td>$0.14</td>\n",
       "      <td>$0.00</td>\n",
       "      <td>$0.14</td>\n",
       "      <td>$2.43</td>\n",
       "      <td>Taerang Bae</td>\n",
       "      <td>NaN</td>\n",
       "    </tr>\n",
       "    <tr>\n",
       "      <th>1</th>\n",
       "      <td>1/10/23</td>\n",
       "      <td>114-2760192-3085800</td>\n",
       "      <td>Mastercard - 5791</td>\n",
       "      <td>Amazon.com</td>\n",
       "      <td>NaN</td>\n",
       "      <td>taerang.bae@gwu.edu</td>\n",
       "      <td>1/12/23</td>\n",
       "      <td>Taerang Bae</td>\n",
       "      <td>2223 H St. NW</td>\n",
       "      <td>FULBRIGHT HALL #204</td>\n",
       "      <td>...</td>\n",
       "      <td>Shipped</td>\n",
       "      <td>USPS</td>\n",
       "      <td>$40.98</td>\n",
       "      <td>$0.00</td>\n",
       "      <td>$2.46</td>\n",
       "      <td>$0.00</td>\n",
       "      <td>$2.46</td>\n",
       "      <td>$43.44</td>\n",
       "      <td>Taerang Bae</td>\n",
       "      <td>NaN</td>\n",
       "    </tr>\n",
       "    <tr>\n",
       "      <th>2</th>\n",
       "      <td>1/10/23</td>\n",
       "      <td>114-3073829-8924206</td>\n",
       "      <td>Mastercard - 5791</td>\n",
       "      <td>Amazon.com</td>\n",
       "      <td>NaN</td>\n",
       "      <td>taerang.bae@gwu.edu</td>\n",
       "      <td>1/12/23</td>\n",
       "      <td>Taerang Bae</td>\n",
       "      <td>2223 H St. NW</td>\n",
       "      <td>FULBRIGHT HALL #204</td>\n",
       "      <td>...</td>\n",
       "      <td>Shipped</td>\n",
       "      <td>USPS</td>\n",
       "      <td>$39.99</td>\n",
       "      <td>$0.00</td>\n",
       "      <td>$0.00</td>\n",
       "      <td>$5.00</td>\n",
       "      <td>$2.10</td>\n",
       "      <td>$37.09</td>\n",
       "      <td>Taerang Bae</td>\n",
       "      <td>NaN</td>\n",
       "    </tr>\n",
       "    <tr>\n",
       "      <th>3</th>\n",
       "      <td>1/12/23</td>\n",
       "      <td>112-1555209-8070613</td>\n",
       "      <td>Mastercard - 5791</td>\n",
       "      <td>Amazon.com</td>\n",
       "      <td>NaN</td>\n",
       "      <td>taerang.bae@gwu.edu</td>\n",
       "      <td>1/13/23</td>\n",
       "      <td>Taerang Bae</td>\n",
       "      <td>2223 H St. NW</td>\n",
       "      <td>FULBRIGHT HALL #204</td>\n",
       "      <td>...</td>\n",
       "      <td>Shipped</td>\n",
       "      <td>USPS</td>\n",
       "      <td>$69.51</td>\n",
       "      <td>$0.00</td>\n",
       "      <td>$3.40</td>\n",
       "      <td>$0.00</td>\n",
       "      <td>$3.40</td>\n",
       "      <td>$72.91</td>\n",
       "      <td>Taerang Bae</td>\n",
       "      <td>NaN</td>\n",
       "    </tr>\n",
       "    <tr>\n",
       "      <th>4</th>\n",
       "      <td>1/21/23</td>\n",
       "      <td>112-8566595-3061015</td>\n",
       "      <td>Mastercard - 5791</td>\n",
       "      <td>Amazon.com</td>\n",
       "      <td>NaN</td>\n",
       "      <td>taerang.bae@gwu.edu</td>\n",
       "      <td>1/24/23</td>\n",
       "      <td>Taerang Bae</td>\n",
       "      <td>2223 H St. NW</td>\n",
       "      <td>FULBRIGHT HALL #204</td>\n",
       "      <td>...</td>\n",
       "      <td>Shipped</td>\n",
       "      <td>USPS</td>\n",
       "      <td>$15.49</td>\n",
       "      <td>$0.00</td>\n",
       "      <td>$0.93</td>\n",
       "      <td>$0.00</td>\n",
       "      <td>$0.93</td>\n",
       "      <td>$16.42</td>\n",
       "      <td>Taerang Bae</td>\n",
       "      <td>NaN</td>\n",
       "    </tr>\n",
       "  </tbody>\n",
       "</table>\n",
       "<p>5 rows × 23 columns</p>\n",
       "</div>"
      ],
      "text/plain": [
       "  Order Date             Order ID Payment Instrument Type     Website  \\\n",
       "0    1/10/23  114-0637911-5956210       Mastercard - 5791  Amazon.com   \n",
       "1    1/10/23  114-2760192-3085800       Mastercard - 5791  Amazon.com   \n",
       "2    1/10/23  114-3073829-8924206       Mastercard - 5791  Amazon.com   \n",
       "3    1/12/23  112-1555209-8070613       Mastercard - 5791  Amazon.com   \n",
       "4    1/21/23  112-8566595-3061015       Mastercard - 5791  Amazon.com   \n",
       "\n",
       "   Purchase Order Number Ordering Customer Email Shipment Date  \\\n",
       "0                    NaN     taerang.bae@gwu.edu       1/17/23   \n",
       "1                    NaN     taerang.bae@gwu.edu       1/12/23   \n",
       "2                    NaN     taerang.bae@gwu.edu       1/12/23   \n",
       "3                    NaN     taerang.bae@gwu.edu       1/13/23   \n",
       "4                    NaN     taerang.bae@gwu.edu       1/24/23   \n",
       "\n",
       "  Shipping Address Name Shipping Address Street 1 Shipping Address Street 2  \\\n",
       "0           Taerang Bae             2223 H St. NW       FULBRIGHT HALL #204   \n",
       "1           Taerang Bae             2223 H St. NW       FULBRIGHT HALL #204   \n",
       "2           Taerang Bae             2223 H St. NW       FULBRIGHT HALL #204   \n",
       "3           Taerang Bae             2223 H St. NW       FULBRIGHT HALL #204   \n",
       "4           Taerang Bae             2223 H St. NW       FULBRIGHT HALL #204   \n",
       "\n",
       "   ... Order Status Carrier Name & Tracking Number Subtotal Shipping Charge  \\\n",
       "0  ...      Shipped                           USPS    $2.29           $0.00   \n",
       "1  ...      Shipped                           USPS   $40.98           $0.00   \n",
       "2  ...      Shipped                           USPS   $39.99           $0.00   \n",
       "3  ...      Shipped                           USPS   $69.51           $0.00   \n",
       "4  ...      Shipped                           USPS   $15.49           $0.00   \n",
       "\n",
       "  Tax Before Promotions Total Promotions Tax Charged Total Charged  \\\n",
       "0                 $0.14            $0.00       $0.14         $2.43   \n",
       "1                 $2.46            $0.00       $2.46        $43.44   \n",
       "2                 $0.00            $5.00       $2.10        $37.09   \n",
       "3                 $3.40            $0.00       $3.40        $72.91   \n",
       "4                 $0.93            $0.00       $0.93        $16.42   \n",
       "\n",
       "    Buyer Name Group Name  \n",
       "0  Taerang Bae        NaN  \n",
       "1  Taerang Bae        NaN  \n",
       "2  Taerang Bae        NaN  \n",
       "3  Taerang Bae        NaN  \n",
       "4  Taerang Bae        NaN  \n",
       "\n",
       "[5 rows x 23 columns]"
      ]
     },
     "execution_count": 1,
     "metadata": {},
     "output_type": "execute_result"
    }
   ],
   "source": [
    "import pandas as pd\n",
    "\n",
    "df = pd.read_csv('amazon-orders.csv')\n",
    "df.head()"
   ]
  },
  {
   "cell_type": "markdown",
   "id": "511192be",
   "metadata": {},
   "source": [
    "> Importing of the Amazon Order dataset is successful."
   ]
  },
  {
   "cell_type": "code",
   "execution_count": 2,
   "id": "8ec8c0ac",
   "metadata": {},
   "outputs": [
    {
     "data": {
      "text/html": [
       "<div>\n",
       "<style scoped>\n",
       "    .dataframe tbody tr th:only-of-type {\n",
       "        vertical-align: middle;\n",
       "    }\n",
       "\n",
       "    .dataframe tbody tr th {\n",
       "        vertical-align: top;\n",
       "    }\n",
       "\n",
       "    .dataframe thead th {\n",
       "        text-align: right;\n",
       "    }\n",
       "</style>\n",
       "<table border=\"1\" class=\"dataframe\">\n",
       "  <thead>\n",
       "    <tr style=\"text-align: right;\">\n",
       "      <th></th>\n",
       "      <th>Order Date</th>\n",
       "      <th>Order ID</th>\n",
       "      <th>Payment Instrument Type</th>\n",
       "      <th>Website</th>\n",
       "      <th>Purchase Order Number</th>\n",
       "      <th>Ordering Customer Email</th>\n",
       "      <th>Shipment Date</th>\n",
       "      <th>Shipping Address Name</th>\n",
       "      <th>Shipping Address Street 1</th>\n",
       "      <th>Shipping Address Street 2</th>\n",
       "      <th>...</th>\n",
       "      <th>Order Status</th>\n",
       "      <th>Carrier Name &amp; Tracking Number</th>\n",
       "      <th>Subtotal</th>\n",
       "      <th>Shipping Charge</th>\n",
       "      <th>Tax Before Promotions</th>\n",
       "      <th>Total Promotions</th>\n",
       "      <th>Tax Charged</th>\n",
       "      <th>Total Charged</th>\n",
       "      <th>Buyer Name</th>\n",
       "      <th>Group Name</th>\n",
       "    </tr>\n",
       "  </thead>\n",
       "  <tbody>\n",
       "    <tr>\n",
       "      <th>0</th>\n",
       "      <td>1/10/23</td>\n",
       "      <td>114-0637911-5956210</td>\n",
       "      <td>Mastercard - 5791</td>\n",
       "      <td>Amazon.com</td>\n",
       "      <td>0.0</td>\n",
       "      <td>taerang.bae@gwu.edu</td>\n",
       "      <td>1/17/23</td>\n",
       "      <td>Taerang Bae</td>\n",
       "      <td>2223 H St. NW</td>\n",
       "      <td>FULBRIGHT HALL #204</td>\n",
       "      <td>...</td>\n",
       "      <td>Shipped</td>\n",
       "      <td>USPS</td>\n",
       "      <td>$2.29</td>\n",
       "      <td>$0.00</td>\n",
       "      <td>$0.14</td>\n",
       "      <td>$0.00</td>\n",
       "      <td>$0.14</td>\n",
       "      <td>$2.43</td>\n",
       "      <td>Taerang Bae</td>\n",
       "      <td>0.0</td>\n",
       "    </tr>\n",
       "    <tr>\n",
       "      <th>1</th>\n",
       "      <td>1/10/23</td>\n",
       "      <td>114-2760192-3085800</td>\n",
       "      <td>Mastercard - 5791</td>\n",
       "      <td>Amazon.com</td>\n",
       "      <td>0.0</td>\n",
       "      <td>taerang.bae@gwu.edu</td>\n",
       "      <td>1/12/23</td>\n",
       "      <td>Taerang Bae</td>\n",
       "      <td>2223 H St. NW</td>\n",
       "      <td>FULBRIGHT HALL #204</td>\n",
       "      <td>...</td>\n",
       "      <td>Shipped</td>\n",
       "      <td>USPS</td>\n",
       "      <td>$40.98</td>\n",
       "      <td>$0.00</td>\n",
       "      <td>$2.46</td>\n",
       "      <td>$0.00</td>\n",
       "      <td>$2.46</td>\n",
       "      <td>$43.44</td>\n",
       "      <td>Taerang Bae</td>\n",
       "      <td>0.0</td>\n",
       "    </tr>\n",
       "    <tr>\n",
       "      <th>2</th>\n",
       "      <td>1/10/23</td>\n",
       "      <td>114-3073829-8924206</td>\n",
       "      <td>Mastercard - 5791</td>\n",
       "      <td>Amazon.com</td>\n",
       "      <td>0.0</td>\n",
       "      <td>taerang.bae@gwu.edu</td>\n",
       "      <td>1/12/23</td>\n",
       "      <td>Taerang Bae</td>\n",
       "      <td>2223 H St. NW</td>\n",
       "      <td>FULBRIGHT HALL #204</td>\n",
       "      <td>...</td>\n",
       "      <td>Shipped</td>\n",
       "      <td>USPS</td>\n",
       "      <td>$39.99</td>\n",
       "      <td>$0.00</td>\n",
       "      <td>$0.00</td>\n",
       "      <td>$5.00</td>\n",
       "      <td>$2.10</td>\n",
       "      <td>$37.09</td>\n",
       "      <td>Taerang Bae</td>\n",
       "      <td>0.0</td>\n",
       "    </tr>\n",
       "    <tr>\n",
       "      <th>3</th>\n",
       "      <td>1/12/23</td>\n",
       "      <td>112-1555209-8070613</td>\n",
       "      <td>Mastercard - 5791</td>\n",
       "      <td>Amazon.com</td>\n",
       "      <td>0.0</td>\n",
       "      <td>taerang.bae@gwu.edu</td>\n",
       "      <td>1/13/23</td>\n",
       "      <td>Taerang Bae</td>\n",
       "      <td>2223 H St. NW</td>\n",
       "      <td>FULBRIGHT HALL #204</td>\n",
       "      <td>...</td>\n",
       "      <td>Shipped</td>\n",
       "      <td>USPS</td>\n",
       "      <td>$69.51</td>\n",
       "      <td>$0.00</td>\n",
       "      <td>$3.40</td>\n",
       "      <td>$0.00</td>\n",
       "      <td>$3.40</td>\n",
       "      <td>$72.91</td>\n",
       "      <td>Taerang Bae</td>\n",
       "      <td>0.0</td>\n",
       "    </tr>\n",
       "    <tr>\n",
       "      <th>4</th>\n",
       "      <td>1/21/23</td>\n",
       "      <td>112-8566595-3061015</td>\n",
       "      <td>Mastercard - 5791</td>\n",
       "      <td>Amazon.com</td>\n",
       "      <td>0.0</td>\n",
       "      <td>taerang.bae@gwu.edu</td>\n",
       "      <td>1/24/23</td>\n",
       "      <td>Taerang Bae</td>\n",
       "      <td>2223 H St. NW</td>\n",
       "      <td>FULBRIGHT HALL #204</td>\n",
       "      <td>...</td>\n",
       "      <td>Shipped</td>\n",
       "      <td>USPS</td>\n",
       "      <td>$15.49</td>\n",
       "      <td>$0.00</td>\n",
       "      <td>$0.93</td>\n",
       "      <td>$0.00</td>\n",
       "      <td>$0.93</td>\n",
       "      <td>$16.42</td>\n",
       "      <td>Taerang Bae</td>\n",
       "      <td>0.0</td>\n",
       "    </tr>\n",
       "  </tbody>\n",
       "</table>\n",
       "<p>5 rows × 23 columns</p>\n",
       "</div>"
      ],
      "text/plain": [
       "  Order Date             Order ID Payment Instrument Type     Website  \\\n",
       "0    1/10/23  114-0637911-5956210       Mastercard - 5791  Amazon.com   \n",
       "1    1/10/23  114-2760192-3085800       Mastercard - 5791  Amazon.com   \n",
       "2    1/10/23  114-3073829-8924206       Mastercard - 5791  Amazon.com   \n",
       "3    1/12/23  112-1555209-8070613       Mastercard - 5791  Amazon.com   \n",
       "4    1/21/23  112-8566595-3061015       Mastercard - 5791  Amazon.com   \n",
       "\n",
       "   Purchase Order Number Ordering Customer Email Shipment Date  \\\n",
       "0                    0.0     taerang.bae@gwu.edu       1/17/23   \n",
       "1                    0.0     taerang.bae@gwu.edu       1/12/23   \n",
       "2                    0.0     taerang.bae@gwu.edu       1/12/23   \n",
       "3                    0.0     taerang.bae@gwu.edu       1/13/23   \n",
       "4                    0.0     taerang.bae@gwu.edu       1/24/23   \n",
       "\n",
       "  Shipping Address Name Shipping Address Street 1 Shipping Address Street 2  \\\n",
       "0           Taerang Bae             2223 H St. NW       FULBRIGHT HALL #204   \n",
       "1           Taerang Bae             2223 H St. NW       FULBRIGHT HALL #204   \n",
       "2           Taerang Bae             2223 H St. NW       FULBRIGHT HALL #204   \n",
       "3           Taerang Bae             2223 H St. NW       FULBRIGHT HALL #204   \n",
       "4           Taerang Bae             2223 H St. NW       FULBRIGHT HALL #204   \n",
       "\n",
       "   ... Order Status Carrier Name & Tracking Number Subtotal Shipping Charge  \\\n",
       "0  ...      Shipped                           USPS    $2.29           $0.00   \n",
       "1  ...      Shipped                           USPS   $40.98           $0.00   \n",
       "2  ...      Shipped                           USPS   $39.99           $0.00   \n",
       "3  ...      Shipped                           USPS   $69.51           $0.00   \n",
       "4  ...      Shipped                           USPS   $15.49           $0.00   \n",
       "\n",
       "  Tax Before Promotions Total Promotions Tax Charged Total Charged  \\\n",
       "0                 $0.14            $0.00       $0.14         $2.43   \n",
       "1                 $2.46            $0.00       $2.46        $43.44   \n",
       "2                 $0.00            $5.00       $2.10        $37.09   \n",
       "3                 $3.40            $0.00       $3.40        $72.91   \n",
       "4                 $0.93            $0.00       $0.93        $16.42   \n",
       "\n",
       "    Buyer Name Group Name  \n",
       "0  Taerang Bae        0.0  \n",
       "1  Taerang Bae        0.0  \n",
       "2  Taerang Bae        0.0  \n",
       "3  Taerang Bae        0.0  \n",
       "4  Taerang Bae        0.0  \n",
       "\n",
       "[5 rows x 23 columns]"
      ]
     },
     "execution_count": 2,
     "metadata": {},
     "output_type": "execute_result"
    }
   ],
   "source": [
    "df = df.fillna(0)\n",
    "df.head()"
   ]
  },
  {
   "cell_type": "markdown",
   "id": "0cd547a4",
   "metadata": {},
   "source": [
    "> The \"NaN\" values in the original dataframe has been replaced with \"0\" for convinience."
   ]
  },
  {
   "cell_type": "markdown",
   "id": "c13e6b43",
   "metadata": {},
   "source": [
    "### Total Spending"
   ]
  },
  {
   "cell_type": "code",
   "execution_count": 3,
   "id": "20559f01",
   "metadata": {
    "scrolled": false
   },
   "outputs": [
    {
     "name": "stderr",
     "output_type": "stream",
     "text": [
      "/var/folders/ln/p2yr02vx4zs72j1wt0w47d2m0000gn/T/ipykernel_19784/306557459.py:1: FutureWarning: The default value of regex will change from True to False in a future version. In addition, single character regular expressions will *not* be treated as literal strings when regex=True.\n",
      "  df[\"Total Charged\"] = df[\"Total Charged\"].str.replace('$',' ').astype(float)\n"
     ]
    },
    {
     "data": {
      "text/html": [
       "<div>\n",
       "<style scoped>\n",
       "    .dataframe tbody tr th:only-of-type {\n",
       "        vertical-align: middle;\n",
       "    }\n",
       "\n",
       "    .dataframe tbody tr th {\n",
       "        vertical-align: top;\n",
       "    }\n",
       "\n",
       "    .dataframe thead th {\n",
       "        text-align: right;\n",
       "    }\n",
       "</style>\n",
       "<table border=\"1\" class=\"dataframe\">\n",
       "  <thead>\n",
       "    <tr style=\"text-align: right;\">\n",
       "      <th></th>\n",
       "      <th>Order Date</th>\n",
       "      <th>Order ID</th>\n",
       "      <th>Payment Instrument Type</th>\n",
       "      <th>Website</th>\n",
       "      <th>Purchase Order Number</th>\n",
       "      <th>Ordering Customer Email</th>\n",
       "      <th>Shipment Date</th>\n",
       "      <th>Shipping Address Name</th>\n",
       "      <th>Shipping Address Street 1</th>\n",
       "      <th>Shipping Address Street 2</th>\n",
       "      <th>...</th>\n",
       "      <th>Order Status</th>\n",
       "      <th>Carrier Name &amp; Tracking Number</th>\n",
       "      <th>Subtotal</th>\n",
       "      <th>Shipping Charge</th>\n",
       "      <th>Tax Before Promotions</th>\n",
       "      <th>Total Promotions</th>\n",
       "      <th>Tax Charged</th>\n",
       "      <th>Total Charged</th>\n",
       "      <th>Buyer Name</th>\n",
       "      <th>Group Name</th>\n",
       "    </tr>\n",
       "  </thead>\n",
       "  <tbody>\n",
       "    <tr>\n",
       "      <th>0</th>\n",
       "      <td>1/10/23</td>\n",
       "      <td>114-0637911-5956210</td>\n",
       "      <td>Mastercard - 5791</td>\n",
       "      <td>Amazon.com</td>\n",
       "      <td>0.0</td>\n",
       "      <td>taerang.bae@gwu.edu</td>\n",
       "      <td>1/17/23</td>\n",
       "      <td>Taerang Bae</td>\n",
       "      <td>2223 H St. NW</td>\n",
       "      <td>FULBRIGHT HALL #204</td>\n",
       "      <td>...</td>\n",
       "      <td>Shipped</td>\n",
       "      <td>USPS</td>\n",
       "      <td>$2.29</td>\n",
       "      <td>$0.00</td>\n",
       "      <td>$0.14</td>\n",
       "      <td>$0.00</td>\n",
       "      <td>$0.14</td>\n",
       "      <td>2.43</td>\n",
       "      <td>Taerang Bae</td>\n",
       "      <td>0.0</td>\n",
       "    </tr>\n",
       "    <tr>\n",
       "      <th>1</th>\n",
       "      <td>1/10/23</td>\n",
       "      <td>114-2760192-3085800</td>\n",
       "      <td>Mastercard - 5791</td>\n",
       "      <td>Amazon.com</td>\n",
       "      <td>0.0</td>\n",
       "      <td>taerang.bae@gwu.edu</td>\n",
       "      <td>1/12/23</td>\n",
       "      <td>Taerang Bae</td>\n",
       "      <td>2223 H St. NW</td>\n",
       "      <td>FULBRIGHT HALL #204</td>\n",
       "      <td>...</td>\n",
       "      <td>Shipped</td>\n",
       "      <td>USPS</td>\n",
       "      <td>$40.98</td>\n",
       "      <td>$0.00</td>\n",
       "      <td>$2.46</td>\n",
       "      <td>$0.00</td>\n",
       "      <td>$2.46</td>\n",
       "      <td>43.44</td>\n",
       "      <td>Taerang Bae</td>\n",
       "      <td>0.0</td>\n",
       "    </tr>\n",
       "    <tr>\n",
       "      <th>2</th>\n",
       "      <td>1/10/23</td>\n",
       "      <td>114-3073829-8924206</td>\n",
       "      <td>Mastercard - 5791</td>\n",
       "      <td>Amazon.com</td>\n",
       "      <td>0.0</td>\n",
       "      <td>taerang.bae@gwu.edu</td>\n",
       "      <td>1/12/23</td>\n",
       "      <td>Taerang Bae</td>\n",
       "      <td>2223 H St. NW</td>\n",
       "      <td>FULBRIGHT HALL #204</td>\n",
       "      <td>...</td>\n",
       "      <td>Shipped</td>\n",
       "      <td>USPS</td>\n",
       "      <td>$39.99</td>\n",
       "      <td>$0.00</td>\n",
       "      <td>$0.00</td>\n",
       "      <td>$5.00</td>\n",
       "      <td>$2.10</td>\n",
       "      <td>37.09</td>\n",
       "      <td>Taerang Bae</td>\n",
       "      <td>0.0</td>\n",
       "    </tr>\n",
       "    <tr>\n",
       "      <th>3</th>\n",
       "      <td>1/12/23</td>\n",
       "      <td>112-1555209-8070613</td>\n",
       "      <td>Mastercard - 5791</td>\n",
       "      <td>Amazon.com</td>\n",
       "      <td>0.0</td>\n",
       "      <td>taerang.bae@gwu.edu</td>\n",
       "      <td>1/13/23</td>\n",
       "      <td>Taerang Bae</td>\n",
       "      <td>2223 H St. NW</td>\n",
       "      <td>FULBRIGHT HALL #204</td>\n",
       "      <td>...</td>\n",
       "      <td>Shipped</td>\n",
       "      <td>USPS</td>\n",
       "      <td>$69.51</td>\n",
       "      <td>$0.00</td>\n",
       "      <td>$3.40</td>\n",
       "      <td>$0.00</td>\n",
       "      <td>$3.40</td>\n",
       "      <td>72.91</td>\n",
       "      <td>Taerang Bae</td>\n",
       "      <td>0.0</td>\n",
       "    </tr>\n",
       "    <tr>\n",
       "      <th>4</th>\n",
       "      <td>1/21/23</td>\n",
       "      <td>112-8566595-3061015</td>\n",
       "      <td>Mastercard - 5791</td>\n",
       "      <td>Amazon.com</td>\n",
       "      <td>0.0</td>\n",
       "      <td>taerang.bae@gwu.edu</td>\n",
       "      <td>1/24/23</td>\n",
       "      <td>Taerang Bae</td>\n",
       "      <td>2223 H St. NW</td>\n",
       "      <td>FULBRIGHT HALL #204</td>\n",
       "      <td>...</td>\n",
       "      <td>Shipped</td>\n",
       "      <td>USPS</td>\n",
       "      <td>$15.49</td>\n",
       "      <td>$0.00</td>\n",
       "      <td>$0.93</td>\n",
       "      <td>$0.00</td>\n",
       "      <td>$0.93</td>\n",
       "      <td>16.42</td>\n",
       "      <td>Taerang Bae</td>\n",
       "      <td>0.0</td>\n",
       "    </tr>\n",
       "  </tbody>\n",
       "</table>\n",
       "<p>5 rows × 23 columns</p>\n",
       "</div>"
      ],
      "text/plain": [
       "  Order Date             Order ID Payment Instrument Type     Website  \\\n",
       "0    1/10/23  114-0637911-5956210       Mastercard - 5791  Amazon.com   \n",
       "1    1/10/23  114-2760192-3085800       Mastercard - 5791  Amazon.com   \n",
       "2    1/10/23  114-3073829-8924206       Mastercard - 5791  Amazon.com   \n",
       "3    1/12/23  112-1555209-8070613       Mastercard - 5791  Amazon.com   \n",
       "4    1/21/23  112-8566595-3061015       Mastercard - 5791  Amazon.com   \n",
       "\n",
       "   Purchase Order Number Ordering Customer Email Shipment Date  \\\n",
       "0                    0.0     taerang.bae@gwu.edu       1/17/23   \n",
       "1                    0.0     taerang.bae@gwu.edu       1/12/23   \n",
       "2                    0.0     taerang.bae@gwu.edu       1/12/23   \n",
       "3                    0.0     taerang.bae@gwu.edu       1/13/23   \n",
       "4                    0.0     taerang.bae@gwu.edu       1/24/23   \n",
       "\n",
       "  Shipping Address Name Shipping Address Street 1 Shipping Address Street 2  \\\n",
       "0           Taerang Bae             2223 H St. NW       FULBRIGHT HALL #204   \n",
       "1           Taerang Bae             2223 H St. NW       FULBRIGHT HALL #204   \n",
       "2           Taerang Bae             2223 H St. NW       FULBRIGHT HALL #204   \n",
       "3           Taerang Bae             2223 H St. NW       FULBRIGHT HALL #204   \n",
       "4           Taerang Bae             2223 H St. NW       FULBRIGHT HALL #204   \n",
       "\n",
       "   ... Order Status Carrier Name & Tracking Number Subtotal Shipping Charge  \\\n",
       "0  ...      Shipped                           USPS    $2.29           $0.00   \n",
       "1  ...      Shipped                           USPS   $40.98           $0.00   \n",
       "2  ...      Shipped                           USPS   $39.99           $0.00   \n",
       "3  ...      Shipped                           USPS   $69.51           $0.00   \n",
       "4  ...      Shipped                           USPS   $15.49           $0.00   \n",
       "\n",
       "  Tax Before Promotions Total Promotions Tax Charged Total Charged  \\\n",
       "0                 $0.14            $0.00       $0.14          2.43   \n",
       "1                 $2.46            $0.00       $2.46         43.44   \n",
       "2                 $0.00            $5.00       $2.10         37.09   \n",
       "3                 $3.40            $0.00       $3.40         72.91   \n",
       "4                 $0.93            $0.00       $0.93         16.42   \n",
       "\n",
       "    Buyer Name Group Name  \n",
       "0  Taerang Bae        0.0  \n",
       "1  Taerang Bae        0.0  \n",
       "2  Taerang Bae        0.0  \n",
       "3  Taerang Bae        0.0  \n",
       "4  Taerang Bae        0.0  \n",
       "\n",
       "[5 rows x 23 columns]"
      ]
     },
     "execution_count": 3,
     "metadata": {},
     "output_type": "execute_result"
    }
   ],
   "source": [
    "df[\"Total Charged\"] = df[\"Total Charged\"].str.replace('$',' ').astype(float)\n",
    "df.head()"
   ]
  },
  {
   "cell_type": "markdown",
   "id": "7b88e85d",
   "metadata": {},
   "source": [
    "The '$' in items of \"Total Charged\" column has been removed and changed to float to allow numerical calculations."
   ]
  },
  {
   "cell_type": "code",
   "execution_count": 4,
   "id": "0561c7d6",
   "metadata": {},
   "outputs": [
    {
     "data": {
      "text/plain": [
       "439.23"
      ]
     },
     "execution_count": 4,
     "metadata": {},
     "output_type": "execute_result"
    }
   ],
   "source": [
    "df[\"Total Charged\"].sum()"
   ]
  },
  {
   "cell_type": "code",
   "execution_count": 5,
   "id": "1126e65b",
   "metadata": {},
   "outputs": [
    {
     "data": {
      "text/plain": [
       "29.282"
      ]
     },
     "execution_count": 5,
     "metadata": {},
     "output_type": "execute_result"
    }
   ],
   "source": [
    "average = df[\"Total Charged\"].mean()\n",
    "average"
   ]
  },
  {
   "cell_type": "code",
   "execution_count": 6,
   "id": "8ba45a52",
   "metadata": {},
   "outputs": [
    {
     "data": {
      "text/plain": [
       "28.44"
      ]
     },
     "execution_count": 6,
     "metadata": {},
     "output_type": "execute_result"
    }
   ],
   "source": [
    "df[\"Total Charged\"].median()"
   ]
  },
  {
   "cell_type": "code",
   "execution_count": 7,
   "id": "a1d33c2f",
   "metadata": {},
   "outputs": [
    {
     "data": {
      "text/plain": [
       "72.91"
      ]
     },
     "execution_count": 7,
     "metadata": {},
     "output_type": "execute_result"
    }
   ],
   "source": [
    "df[\"Total Charged\"].max()"
   ]
  },
  {
   "cell_type": "code",
   "execution_count": 8,
   "id": "4a2f3631",
   "metadata": {},
   "outputs": [
    {
     "data": {
      "text/plain": [
       "2.43"
      ]
     },
     "execution_count": 8,
     "metadata": {},
     "output_type": "execute_result"
    }
   ],
   "source": [
    "df[\"Total Charged\"].min()"
   ]
  },
  {
   "cell_type": "code",
   "execution_count": 9,
   "id": "d36b99f7",
   "metadata": {},
   "outputs": [
    {
     "data": {
      "text/plain": [
       "5.411284505549491"
      ]
     },
     "execution_count": 9,
     "metadata": {},
     "output_type": "execute_result"
    }
   ],
   "source": [
    "import math\n",
    "\n",
    "stdev_total = math.sqrt(df[\"Total Charged\"].mean())\n",
    "stdev_total"
   ]
  },
  {
   "cell_type": "markdown",
   "id": "6e9034d0",
   "metadata": {},
   "source": [
    "#### Analysis on Total Spending\n",
    "> From the Amazon orders placed from January 2023 to March 2023, a total of 439.23 dollars was spent with an average spending of 29.282 dollars per order with standard deviation of 5.41 dollars. The median of orders is 28.44 dollars. The maximum spent on one order was 72.91 dollars, and the minimum spent on one order was 2.43 dollars. "
   ]
  },
  {
   "cell_type": "markdown",
   "id": "55e7eaa4",
   "metadata": {},
   "source": [
    "### Spending on Taxes"
   ]
  },
  {
   "cell_type": "code",
   "execution_count": 10,
   "id": "2133bccf",
   "metadata": {},
   "outputs": [
    {
     "name": "stderr",
     "output_type": "stream",
     "text": [
      "/var/folders/ln/p2yr02vx4zs72j1wt0w47d2m0000gn/T/ipykernel_19784/947454691.py:1: FutureWarning: The default value of regex will change from True to False in a future version. In addition, single character regular expressions will *not* be treated as literal strings when regex=True.\n",
      "  df[\"Tax Charged\"] = df[\"Tax Charged\"].str.replace('$',' ').astype(float)\n"
     ]
    },
    {
     "data": {
      "text/html": [
       "<div>\n",
       "<style scoped>\n",
       "    .dataframe tbody tr th:only-of-type {\n",
       "        vertical-align: middle;\n",
       "    }\n",
       "\n",
       "    .dataframe tbody tr th {\n",
       "        vertical-align: top;\n",
       "    }\n",
       "\n",
       "    .dataframe thead th {\n",
       "        text-align: right;\n",
       "    }\n",
       "</style>\n",
       "<table border=\"1\" class=\"dataframe\">\n",
       "  <thead>\n",
       "    <tr style=\"text-align: right;\">\n",
       "      <th></th>\n",
       "      <th>Order Date</th>\n",
       "      <th>Order ID</th>\n",
       "      <th>Payment Instrument Type</th>\n",
       "      <th>Website</th>\n",
       "      <th>Purchase Order Number</th>\n",
       "      <th>Ordering Customer Email</th>\n",
       "      <th>Shipment Date</th>\n",
       "      <th>Shipping Address Name</th>\n",
       "      <th>Shipping Address Street 1</th>\n",
       "      <th>Shipping Address Street 2</th>\n",
       "      <th>...</th>\n",
       "      <th>Order Status</th>\n",
       "      <th>Carrier Name &amp; Tracking Number</th>\n",
       "      <th>Subtotal</th>\n",
       "      <th>Shipping Charge</th>\n",
       "      <th>Tax Before Promotions</th>\n",
       "      <th>Total Promotions</th>\n",
       "      <th>Tax Charged</th>\n",
       "      <th>Total Charged</th>\n",
       "      <th>Buyer Name</th>\n",
       "      <th>Group Name</th>\n",
       "    </tr>\n",
       "  </thead>\n",
       "  <tbody>\n",
       "    <tr>\n",
       "      <th>0</th>\n",
       "      <td>1/10/23</td>\n",
       "      <td>114-0637911-5956210</td>\n",
       "      <td>Mastercard - 5791</td>\n",
       "      <td>Amazon.com</td>\n",
       "      <td>0.0</td>\n",
       "      <td>taerang.bae@gwu.edu</td>\n",
       "      <td>1/17/23</td>\n",
       "      <td>Taerang Bae</td>\n",
       "      <td>2223 H St. NW</td>\n",
       "      <td>FULBRIGHT HALL #204</td>\n",
       "      <td>...</td>\n",
       "      <td>Shipped</td>\n",
       "      <td>USPS</td>\n",
       "      <td>$2.29</td>\n",
       "      <td>$0.00</td>\n",
       "      <td>$0.14</td>\n",
       "      <td>$0.00</td>\n",
       "      <td>0.14</td>\n",
       "      <td>2.43</td>\n",
       "      <td>Taerang Bae</td>\n",
       "      <td>0.0</td>\n",
       "    </tr>\n",
       "    <tr>\n",
       "      <th>1</th>\n",
       "      <td>1/10/23</td>\n",
       "      <td>114-2760192-3085800</td>\n",
       "      <td>Mastercard - 5791</td>\n",
       "      <td>Amazon.com</td>\n",
       "      <td>0.0</td>\n",
       "      <td>taerang.bae@gwu.edu</td>\n",
       "      <td>1/12/23</td>\n",
       "      <td>Taerang Bae</td>\n",
       "      <td>2223 H St. NW</td>\n",
       "      <td>FULBRIGHT HALL #204</td>\n",
       "      <td>...</td>\n",
       "      <td>Shipped</td>\n",
       "      <td>USPS</td>\n",
       "      <td>$40.98</td>\n",
       "      <td>$0.00</td>\n",
       "      <td>$2.46</td>\n",
       "      <td>$0.00</td>\n",
       "      <td>2.46</td>\n",
       "      <td>43.44</td>\n",
       "      <td>Taerang Bae</td>\n",
       "      <td>0.0</td>\n",
       "    </tr>\n",
       "    <tr>\n",
       "      <th>2</th>\n",
       "      <td>1/10/23</td>\n",
       "      <td>114-3073829-8924206</td>\n",
       "      <td>Mastercard - 5791</td>\n",
       "      <td>Amazon.com</td>\n",
       "      <td>0.0</td>\n",
       "      <td>taerang.bae@gwu.edu</td>\n",
       "      <td>1/12/23</td>\n",
       "      <td>Taerang Bae</td>\n",
       "      <td>2223 H St. NW</td>\n",
       "      <td>FULBRIGHT HALL #204</td>\n",
       "      <td>...</td>\n",
       "      <td>Shipped</td>\n",
       "      <td>USPS</td>\n",
       "      <td>$39.99</td>\n",
       "      <td>$0.00</td>\n",
       "      <td>$0.00</td>\n",
       "      <td>$5.00</td>\n",
       "      <td>2.10</td>\n",
       "      <td>37.09</td>\n",
       "      <td>Taerang Bae</td>\n",
       "      <td>0.0</td>\n",
       "    </tr>\n",
       "    <tr>\n",
       "      <th>3</th>\n",
       "      <td>1/12/23</td>\n",
       "      <td>112-1555209-8070613</td>\n",
       "      <td>Mastercard - 5791</td>\n",
       "      <td>Amazon.com</td>\n",
       "      <td>0.0</td>\n",
       "      <td>taerang.bae@gwu.edu</td>\n",
       "      <td>1/13/23</td>\n",
       "      <td>Taerang Bae</td>\n",
       "      <td>2223 H St. NW</td>\n",
       "      <td>FULBRIGHT HALL #204</td>\n",
       "      <td>...</td>\n",
       "      <td>Shipped</td>\n",
       "      <td>USPS</td>\n",
       "      <td>$69.51</td>\n",
       "      <td>$0.00</td>\n",
       "      <td>$3.40</td>\n",
       "      <td>$0.00</td>\n",
       "      <td>3.40</td>\n",
       "      <td>72.91</td>\n",
       "      <td>Taerang Bae</td>\n",
       "      <td>0.0</td>\n",
       "    </tr>\n",
       "    <tr>\n",
       "      <th>4</th>\n",
       "      <td>1/21/23</td>\n",
       "      <td>112-8566595-3061015</td>\n",
       "      <td>Mastercard - 5791</td>\n",
       "      <td>Amazon.com</td>\n",
       "      <td>0.0</td>\n",
       "      <td>taerang.bae@gwu.edu</td>\n",
       "      <td>1/24/23</td>\n",
       "      <td>Taerang Bae</td>\n",
       "      <td>2223 H St. NW</td>\n",
       "      <td>FULBRIGHT HALL #204</td>\n",
       "      <td>...</td>\n",
       "      <td>Shipped</td>\n",
       "      <td>USPS</td>\n",
       "      <td>$15.49</td>\n",
       "      <td>$0.00</td>\n",
       "      <td>$0.93</td>\n",
       "      <td>$0.00</td>\n",
       "      <td>0.93</td>\n",
       "      <td>16.42</td>\n",
       "      <td>Taerang Bae</td>\n",
       "      <td>0.0</td>\n",
       "    </tr>\n",
       "  </tbody>\n",
       "</table>\n",
       "<p>5 rows × 23 columns</p>\n",
       "</div>"
      ],
      "text/plain": [
       "  Order Date             Order ID Payment Instrument Type     Website  \\\n",
       "0    1/10/23  114-0637911-5956210       Mastercard - 5791  Amazon.com   \n",
       "1    1/10/23  114-2760192-3085800       Mastercard - 5791  Amazon.com   \n",
       "2    1/10/23  114-3073829-8924206       Mastercard - 5791  Amazon.com   \n",
       "3    1/12/23  112-1555209-8070613       Mastercard - 5791  Amazon.com   \n",
       "4    1/21/23  112-8566595-3061015       Mastercard - 5791  Amazon.com   \n",
       "\n",
       "   Purchase Order Number Ordering Customer Email Shipment Date  \\\n",
       "0                    0.0     taerang.bae@gwu.edu       1/17/23   \n",
       "1                    0.0     taerang.bae@gwu.edu       1/12/23   \n",
       "2                    0.0     taerang.bae@gwu.edu       1/12/23   \n",
       "3                    0.0     taerang.bae@gwu.edu       1/13/23   \n",
       "4                    0.0     taerang.bae@gwu.edu       1/24/23   \n",
       "\n",
       "  Shipping Address Name Shipping Address Street 1 Shipping Address Street 2  \\\n",
       "0           Taerang Bae             2223 H St. NW       FULBRIGHT HALL #204   \n",
       "1           Taerang Bae             2223 H St. NW       FULBRIGHT HALL #204   \n",
       "2           Taerang Bae             2223 H St. NW       FULBRIGHT HALL #204   \n",
       "3           Taerang Bae             2223 H St. NW       FULBRIGHT HALL #204   \n",
       "4           Taerang Bae             2223 H St. NW       FULBRIGHT HALL #204   \n",
       "\n",
       "   ... Order Status Carrier Name & Tracking Number Subtotal Shipping Charge  \\\n",
       "0  ...      Shipped                           USPS    $2.29           $0.00   \n",
       "1  ...      Shipped                           USPS   $40.98           $0.00   \n",
       "2  ...      Shipped                           USPS   $39.99           $0.00   \n",
       "3  ...      Shipped                           USPS   $69.51           $0.00   \n",
       "4  ...      Shipped                           USPS   $15.49           $0.00   \n",
       "\n",
       "  Tax Before Promotions Total Promotions Tax Charged Total Charged  \\\n",
       "0                 $0.14            $0.00        0.14          2.43   \n",
       "1                 $2.46            $0.00        2.46         43.44   \n",
       "2                 $0.00            $5.00        2.10         37.09   \n",
       "3                 $3.40            $0.00        3.40         72.91   \n",
       "4                 $0.93            $0.00        0.93         16.42   \n",
       "\n",
       "    Buyer Name  Group Name  \n",
       "0  Taerang Bae         0.0  \n",
       "1  Taerang Bae         0.0  \n",
       "2  Taerang Bae         0.0  \n",
       "3  Taerang Bae         0.0  \n",
       "4  Taerang Bae         0.0  \n",
       "\n",
       "[5 rows x 23 columns]"
      ]
     },
     "execution_count": 10,
     "metadata": {},
     "output_type": "execute_result"
    }
   ],
   "source": [
    "df[\"Tax Charged\"] = df[\"Tax Charged\"].str.replace('$',' ').astype(float)\n",
    "df.head()"
   ]
  },
  {
   "cell_type": "code",
   "execution_count": 11,
   "id": "f30722c7",
   "metadata": {},
   "outputs": [
    {
     "data": {
      "text/plain": [
       "20.74"
      ]
     },
     "execution_count": 11,
     "metadata": {},
     "output_type": "execute_result"
    }
   ],
   "source": [
    "df[\"Tax Charged\"].sum()"
   ]
  },
  {
   "cell_type": "code",
   "execution_count": 12,
   "id": "fb1b16f7",
   "metadata": {},
   "outputs": [
    {
     "data": {
      "text/plain": [
       "0.047218996880905216"
      ]
     },
     "execution_count": 12,
     "metadata": {},
     "output_type": "execute_result"
    }
   ],
   "source": [
    "df[\"Tax Charged\"].sum() / df[\"Total Charged\"].sum()"
   ]
  },
  {
   "cell_type": "markdown",
   "id": "1a914c32",
   "metadata": {},
   "source": [
    "#### Analysis on Total Tax Paid\n",
    "> For all orders made, the total tax charged was 20.74 dollars. This amount is 4.72% of total spending."
   ]
  },
  {
   "cell_type": "markdown",
   "id": "2d1d24bd",
   "metadata": {},
   "source": [
    "### Analyzing Spending Over Time"
   ]
  },
  {
   "cell_type": "code",
   "execution_count": 13,
   "id": "1b600a30",
   "metadata": {},
   "outputs": [
    {
     "data": {
      "text/html": [
       "<div>\n",
       "<style scoped>\n",
       "    .dataframe tbody tr th:only-of-type {\n",
       "        vertical-align: middle;\n",
       "    }\n",
       "\n",
       "    .dataframe tbody tr th {\n",
       "        vertical-align: top;\n",
       "    }\n",
       "\n",
       "    .dataframe thead th {\n",
       "        text-align: right;\n",
       "    }\n",
       "</style>\n",
       "<table border=\"1\" class=\"dataframe\">\n",
       "  <thead>\n",
       "    <tr style=\"text-align: right;\">\n",
       "      <th></th>\n",
       "      <th>Order Date</th>\n",
       "      <th>Order ID</th>\n",
       "      <th>Payment Instrument Type</th>\n",
       "      <th>Website</th>\n",
       "      <th>Purchase Order Number</th>\n",
       "      <th>Ordering Customer Email</th>\n",
       "      <th>Shipment Date</th>\n",
       "      <th>Shipping Address Name</th>\n",
       "      <th>Shipping Address Street 1</th>\n",
       "      <th>Shipping Address Street 2</th>\n",
       "      <th>...</th>\n",
       "      <th>Order Status</th>\n",
       "      <th>Carrier Name &amp; Tracking Number</th>\n",
       "      <th>Subtotal</th>\n",
       "      <th>Shipping Charge</th>\n",
       "      <th>Tax Before Promotions</th>\n",
       "      <th>Total Promotions</th>\n",
       "      <th>Tax Charged</th>\n",
       "      <th>Total Charged</th>\n",
       "      <th>Buyer Name</th>\n",
       "      <th>Group Name</th>\n",
       "    </tr>\n",
       "  </thead>\n",
       "  <tbody>\n",
       "    <tr>\n",
       "      <th>0</th>\n",
       "      <td>2023-01-10</td>\n",
       "      <td>114-0637911-5956210</td>\n",
       "      <td>Mastercard - 5791</td>\n",
       "      <td>Amazon.com</td>\n",
       "      <td>0.0</td>\n",
       "      <td>taerang.bae@gwu.edu</td>\n",
       "      <td>1/17/23</td>\n",
       "      <td>Taerang Bae</td>\n",
       "      <td>2223 H St. NW</td>\n",
       "      <td>FULBRIGHT HALL #204</td>\n",
       "      <td>...</td>\n",
       "      <td>Shipped</td>\n",
       "      <td>USPS</td>\n",
       "      <td>$2.29</td>\n",
       "      <td>$0.00</td>\n",
       "      <td>$0.14</td>\n",
       "      <td>$0.00</td>\n",
       "      <td>0.14</td>\n",
       "      <td>2.43</td>\n",
       "      <td>Taerang Bae</td>\n",
       "      <td>0.0</td>\n",
       "    </tr>\n",
       "    <tr>\n",
       "      <th>1</th>\n",
       "      <td>2023-01-10</td>\n",
       "      <td>114-2760192-3085800</td>\n",
       "      <td>Mastercard - 5791</td>\n",
       "      <td>Amazon.com</td>\n",
       "      <td>0.0</td>\n",
       "      <td>taerang.bae@gwu.edu</td>\n",
       "      <td>1/12/23</td>\n",
       "      <td>Taerang Bae</td>\n",
       "      <td>2223 H St. NW</td>\n",
       "      <td>FULBRIGHT HALL #204</td>\n",
       "      <td>...</td>\n",
       "      <td>Shipped</td>\n",
       "      <td>USPS</td>\n",
       "      <td>$40.98</td>\n",
       "      <td>$0.00</td>\n",
       "      <td>$2.46</td>\n",
       "      <td>$0.00</td>\n",
       "      <td>2.46</td>\n",
       "      <td>43.44</td>\n",
       "      <td>Taerang Bae</td>\n",
       "      <td>0.0</td>\n",
       "    </tr>\n",
       "    <tr>\n",
       "      <th>2</th>\n",
       "      <td>2023-01-10</td>\n",
       "      <td>114-3073829-8924206</td>\n",
       "      <td>Mastercard - 5791</td>\n",
       "      <td>Amazon.com</td>\n",
       "      <td>0.0</td>\n",
       "      <td>taerang.bae@gwu.edu</td>\n",
       "      <td>1/12/23</td>\n",
       "      <td>Taerang Bae</td>\n",
       "      <td>2223 H St. NW</td>\n",
       "      <td>FULBRIGHT HALL #204</td>\n",
       "      <td>...</td>\n",
       "      <td>Shipped</td>\n",
       "      <td>USPS</td>\n",
       "      <td>$39.99</td>\n",
       "      <td>$0.00</td>\n",
       "      <td>$0.00</td>\n",
       "      <td>$5.00</td>\n",
       "      <td>2.10</td>\n",
       "      <td>37.09</td>\n",
       "      <td>Taerang Bae</td>\n",
       "      <td>0.0</td>\n",
       "    </tr>\n",
       "    <tr>\n",
       "      <th>3</th>\n",
       "      <td>2023-01-12</td>\n",
       "      <td>112-1555209-8070613</td>\n",
       "      <td>Mastercard - 5791</td>\n",
       "      <td>Amazon.com</td>\n",
       "      <td>0.0</td>\n",
       "      <td>taerang.bae@gwu.edu</td>\n",
       "      <td>1/13/23</td>\n",
       "      <td>Taerang Bae</td>\n",
       "      <td>2223 H St. NW</td>\n",
       "      <td>FULBRIGHT HALL #204</td>\n",
       "      <td>...</td>\n",
       "      <td>Shipped</td>\n",
       "      <td>USPS</td>\n",
       "      <td>$69.51</td>\n",
       "      <td>$0.00</td>\n",
       "      <td>$3.40</td>\n",
       "      <td>$0.00</td>\n",
       "      <td>3.40</td>\n",
       "      <td>72.91</td>\n",
       "      <td>Taerang Bae</td>\n",
       "      <td>0.0</td>\n",
       "    </tr>\n",
       "    <tr>\n",
       "      <th>4</th>\n",
       "      <td>2023-01-21</td>\n",
       "      <td>112-8566595-3061015</td>\n",
       "      <td>Mastercard - 5791</td>\n",
       "      <td>Amazon.com</td>\n",
       "      <td>0.0</td>\n",
       "      <td>taerang.bae@gwu.edu</td>\n",
       "      <td>1/24/23</td>\n",
       "      <td>Taerang Bae</td>\n",
       "      <td>2223 H St. NW</td>\n",
       "      <td>FULBRIGHT HALL #204</td>\n",
       "      <td>...</td>\n",
       "      <td>Shipped</td>\n",
       "      <td>USPS</td>\n",
       "      <td>$15.49</td>\n",
       "      <td>$0.00</td>\n",
       "      <td>$0.93</td>\n",
       "      <td>$0.00</td>\n",
       "      <td>0.93</td>\n",
       "      <td>16.42</td>\n",
       "      <td>Taerang Bae</td>\n",
       "      <td>0.0</td>\n",
       "    </tr>\n",
       "  </tbody>\n",
       "</table>\n",
       "<p>5 rows × 23 columns</p>\n",
       "</div>"
      ],
      "text/plain": [
       "  Order Date             Order ID Payment Instrument Type     Website  \\\n",
       "0 2023-01-10  114-0637911-5956210       Mastercard - 5791  Amazon.com   \n",
       "1 2023-01-10  114-2760192-3085800       Mastercard - 5791  Amazon.com   \n",
       "2 2023-01-10  114-3073829-8924206       Mastercard - 5791  Amazon.com   \n",
       "3 2023-01-12  112-1555209-8070613       Mastercard - 5791  Amazon.com   \n",
       "4 2023-01-21  112-8566595-3061015       Mastercard - 5791  Amazon.com   \n",
       "\n",
       "   Purchase Order Number Ordering Customer Email Shipment Date  \\\n",
       "0                    0.0     taerang.bae@gwu.edu       1/17/23   \n",
       "1                    0.0     taerang.bae@gwu.edu       1/12/23   \n",
       "2                    0.0     taerang.bae@gwu.edu       1/12/23   \n",
       "3                    0.0     taerang.bae@gwu.edu       1/13/23   \n",
       "4                    0.0     taerang.bae@gwu.edu       1/24/23   \n",
       "\n",
       "  Shipping Address Name Shipping Address Street 1 Shipping Address Street 2  \\\n",
       "0           Taerang Bae             2223 H St. NW       FULBRIGHT HALL #204   \n",
       "1           Taerang Bae             2223 H St. NW       FULBRIGHT HALL #204   \n",
       "2           Taerang Bae             2223 H St. NW       FULBRIGHT HALL #204   \n",
       "3           Taerang Bae             2223 H St. NW       FULBRIGHT HALL #204   \n",
       "4           Taerang Bae             2223 H St. NW       FULBRIGHT HALL #204   \n",
       "\n",
       "   ... Order Status Carrier Name & Tracking Number Subtotal Shipping Charge  \\\n",
       "0  ...      Shipped                           USPS    $2.29           $0.00   \n",
       "1  ...      Shipped                           USPS   $40.98           $0.00   \n",
       "2  ...      Shipped                           USPS   $39.99           $0.00   \n",
       "3  ...      Shipped                           USPS   $69.51           $0.00   \n",
       "4  ...      Shipped                           USPS   $15.49           $0.00   \n",
       "\n",
       "  Tax Before Promotions Total Promotions Tax Charged Total Charged  \\\n",
       "0                 $0.14            $0.00        0.14          2.43   \n",
       "1                 $2.46            $0.00        2.46         43.44   \n",
       "2                 $0.00            $5.00        2.10         37.09   \n",
       "3                 $3.40            $0.00        3.40         72.91   \n",
       "4                 $0.93            $0.00        0.93         16.42   \n",
       "\n",
       "    Buyer Name  Group Name  \n",
       "0  Taerang Bae         0.0  \n",
       "1  Taerang Bae         0.0  \n",
       "2  Taerang Bae         0.0  \n",
       "3  Taerang Bae         0.0  \n",
       "4  Taerang Bae         0.0  \n",
       "\n",
       "[5 rows x 23 columns]"
      ]
     },
     "execution_count": 13,
     "metadata": {},
     "output_type": "execute_result"
    }
   ],
   "source": [
    "df[\"Order Date\"] = pd.to_datetime(df['Order Date'])\n",
    "df.head()"
   ]
  },
  {
   "cell_type": "code",
   "execution_count": 14,
   "id": "20f407d9",
   "metadata": {},
   "outputs": [
    {
     "data": {
      "text/plain": [
       "<AxesSubplot:xlabel='Order Date'>"
      ]
     },
     "execution_count": 14,
     "metadata": {},
     "output_type": "execute_result"
    },
    {
     "data": {
      "image/png": "[encoded data removed]",
      "text/plain": [
       "<Figure size 640x480 with 1 Axes>"
      ]
     },
     "metadata": {},
     "output_type": "display_data"
    }
   ],
   "source": [
    "df.plot.bar(x='Order Date', y='Total Charged', rot=90, color=\"#73a5c6\")"
   ]
  },
  {
   "cell_type": "markdown",
   "id": "3d59f7d3",
   "metadata": {},
   "source": [
    "> This bar graph displays the total spending over time. The smallest order per order was made on January 10th, and the largest order per order was made on January 12th. There were multiple orders placed on the same day indicating that most orders were lumped together and placed on the same day yet delivered on different days (the credit card was probably charged whenever the order was ready to be shipped). "
   ]
  },
  {
   "cell_type": "code",
   "execution_count": 20,
   "id": "db474f14",
   "metadata": {},
   "outputs": [
    {
     "data": {
      "text/plain": [
       "Order Date\n",
       "2023-01-10     82.96\n",
       "2023-01-12     72.91\n",
       "2023-01-21     16.42\n",
       "2023-01-24     88.71\n",
       "2023-02-01    124.76\n",
       "Name: Total Charged, dtype: float64"
      ]
     },
     "execution_count": 20,
     "metadata": {},
     "output_type": "execute_result"
    }
   ],
   "source": [
    "daily_orders = df.groupby('Order Date').sum()[\"Total Charged\"]\n",
    "daily_orders.head()"
   ]
  },
  {
   "cell_type": "code",
   "execution_count": 27,
   "id": "86f90776",
   "metadata": {},
   "outputs": [
    {
     "data": {
      "text/plain": [
       "Order Date\n",
       "2023-01-10    4.70\n",
       "2023-01-12    3.40\n",
       "2023-01-21    0.93\n",
       "2023-01-24    3.84\n",
       "2023-02-01    4.84\n",
       "Name: Tax Charged, dtype: float64"
      ]
     },
     "execution_count": 27,
     "metadata": {},
     "output_type": "execute_result"
    }
   ],
   "source": [
    "daily_orders_tax = df.groupby('Order Date').sum()[\"Tax Charged\"]\n",
    "daily_orders_tax.head()"
   ]
  },
  {
   "cell_type": "code",
   "execution_count": 44,
   "id": "74eb791f",
   "metadata": {
    "scrolled": false
   },
   "outputs": [
    {
     "data": {
      "text/plain": [
       "<AxesSubplot:xlabel='Order Date'>"
      ]
     },
     "execution_count": 44,
     "metadata": {},
     "output_type": "execute_result"
    },
    {
     "data": {
      "image/png": "[encoded data removed]",
      "text/plain": [
       "<Figure size 640x480 with 1 Axes>"
      ]
     },
     "metadata": {},
     "output_type": "display_data"
    }
   ],
   "source": [
    "daily_orders.plot.bar(color=\"#7cb69d\")\n",
    "daily_orders_tax.plot.bar(color = \"#ff9d5c\")"
   ]
  },
  {
   "cell_type": "markdown",
   "id": "856774c6",
   "metadata": {},
   "source": [
    "> From January 2023 to March 2023, the largest order in total was made on February 1st with the spending of 124.76. The smallest order out of all was made on January 21st which was 16.42 total. As seen on the graph, January shows the most number of orders placed. The orange bars overlapping the total spending bars represent the total amount of taxes paid per day of order."
   ]
  },
  {
   "cell_type": "code",
   "execution_count": 50,
   "id": "c97bf1ab",
   "metadata": {},
   "outputs": [
    {
     "data": {
      "text/plain": [
       "<Figure size 640x480 with 0 Axes>"
      ]
     },
     "execution_count": 50,
     "metadata": {},
     "output_type": "execute_result"
    },
    {
     "data": {
      "image/png": "[encoded data removed]",
      "text/plain": [
       "<Figure size 640x480 with 1 Axes>"
      ]
     },
     "metadata": {},
     "output_type": "display_data"
    },
    {
     "data": {
      "text/plain": [
       "<Figure size 640x480 with 0 Axes>"
      ]
     },
     "metadata": {},
     "output_type": "display_data"
    }
   ],
   "source": [
    "import matplotlib.pyplot as plt\n",
    "import numpy as np\n",
    "\n",
    "\n",
    "plt.plot(daily_orders, color=\"#7cb69d\")\n",
    "plt.plot(daily_orders_tax, color = \"#ff9d5c\")\n",
    "\n",
    "\n",
    "plt.xlabel(\"Order Date\", fontsize = 12)\n",
    "plt.ylabel(\"Total Spending ($)\", fontsize = 12)\n",
    "plt.title(\"January 2023 - March 2023 Amazon Spending Data\")\n",
    "\n",
    "plt.xticks(fontsize = 6)\n",
    "\n",
    "plt.figure()"
   ]
  },
  {
   "cell_type": "markdown",
   "id": "91066c97",
   "metadata": {},
   "source": [
    "> This multiple line comparison graph is a different visualization of the bar graph above. Although it is difficult to conclude with some pattern due to limited amount of data, there seems to be some sort of consistency between the  total spending line and the tax charged line. \n",
    "This type of visualization is not the best for our purpose since line graph is usually used to show progression over time. However, Amazon orders are not necesssarily progression based since orders are made spontaneously, and the time spent doesn't affect the amount of money spent on orders. "
   ]
  },
  {
   "cell_type": "code",
   "execution_count": 56,
   "id": "f6e605df",
   "metadata": {},
   "outputs": [
    {
     "data": {
      "image/png": "[encoded data removed]",
      "text/plain": [
       "<Figure size 640x480 with 1 Axes>"
      ]
     },
     "metadata": {},
     "output_type": "display_data"
    }
   ],
   "source": [
    "dates = [\"2023-01-10\", \"2023-01-12\", \"2023-01-21\", \"2023-01-24\", \"2023-02-01\", \"2023-03-09\"]\n",
    "colorss = [\"#cad2c5\", \"#606c38\", \"#84a98c\", \"#52796f\", \"#354f52\", \"#2f3e46\"]\n",
    "\n",
    "plt.pie(daily_orders, labels = dates, colors = colorss)\n",
    "plt.legend(bbox_to_anchor=(1.2, 1.0), loc = 'upper left')\n",
    "plt.show()"
   ]
  },
  {
   "cell_type": "markdown",
   "id": "61c37dec",
   "metadata": {},
   "source": [
    "> This pie chart is another visualization of the initial bar graph. This may be easier to view, in terms of comparing the volume of each order, than the bar graph and the multiple line comparison. While bar graph still serves the same purpose, this pie graph might be easier to grasp all information at once. Color-coding of the pie chart makes the primary analysis very easy whereas analyzing the bar graph takes a couple more steps to find out the date of the largest order, for example. "
   ]
  }
 ],
 "metadata": {
  "kernelspec": {
   "display_name": "Python 3 (ipykernel)",
   "language": "python",
   "name": "python3"
  },
  "language_info": {
   "codemirror_mode": {
    "name": "ipython",
    "version": 3
   },
   "file_extension": ".py",
   "mimetype": "text/x-python",
   "name": "python",
   "nbconvert_exporter": "python",
   "pygments_lexer": "ipython3",
   "version": "3.9.13"
  }
 },
 "nbformat": 4,
 "nbformat_minor": 5
}
